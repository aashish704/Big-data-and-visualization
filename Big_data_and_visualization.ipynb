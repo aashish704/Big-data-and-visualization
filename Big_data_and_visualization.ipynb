{
  "nbformat": 4,
  "nbformat_minor": 0,
  "metadata": {
    "colab": {
      "provenance": []
    },
    "kernelspec": {
      "name": "python3",
      "display_name": "Python 3"
    },
    "language_info": {
      "name": "python"
    }
  },
  "cells": [
    {
      "cell_type": "code",
      "execution_count": null,
      "metadata": {
        "colab": {
          "base_uri": "https://localhost:8080/"
        },
        "id": "TZI3SdEykNrD",
        "outputId": "696adc34-2284-49e8-c55a-a7b5d74d5094"
      },
      "outputs": [
        {
          "output_type": "stream",
          "name": "stdout",
          "text": [
            "Collecting pyspark\n",
            "  Downloading pyspark-3.5.1.tar.gz (317.0 MB)\n",
            "\u001b[2K     \u001b[90m━━━━━━━━━━━━━━━━━━━━━━━━━━━━━━━━━━━━━━━━\u001b[0m \u001b[32m317.0/317.0 MB\u001b[0m \u001b[31m2.3 MB/s\u001b[0m eta \u001b[36m0:00:00\u001b[0m\n",
            "\u001b[?25h  Preparing metadata (setup.py) ... \u001b[?25l\u001b[?25hdone\n",
            "Requirement already satisfied: py4j==0.10.9.7 in /usr/local/lib/python3.10/dist-packages (from pyspark) (0.10.9.7)\n",
            "Building wheels for collected packages: pyspark\n",
            "  Building wheel for pyspark (setup.py) ... \u001b[?25l\u001b[?25hdone\n",
            "  Created wheel for pyspark: filename=pyspark-3.5.1-py2.py3-none-any.whl size=317488491 sha256=0d20828ee9eebc2d0db0ec21b929549240732ca4b2bf095c85e907e86b017a8b\n",
            "  Stored in directory: /root/.cache/pip/wheels/80/1d/60/2c256ed38dddce2fdd93be545214a63e02fbd8d74fb0b7f3a6\n",
            "Successfully built pyspark\n",
            "Installing collected packages: pyspark\n",
            "Successfully installed pyspark-3.5.1\n"
          ]
        }
      ],
      "source": [
        "!pip install pyspark"
      ]
    },
    {
      "cell_type": "markdown",
      "source": [
        "setup spark session"
      ],
      "metadata": {
        "id": "ap_cw6q4FOE4"
      }
    },
    {
      "cell_type": "code",
      "source": [
        "from pyspark.sql import SparkSession\n",
        "\n",
        "spark = SparkSession.builder \\\n",
        "    .master(\"local[*]\") \\\n",
        "    .appName(\"Colab PySpark\") \\\n",
        "    .getOrCreate()"
      ],
      "metadata": {
        "id": "mXZpHi97l4sF"
      },
      "execution_count": null,
      "outputs": []
    },
    {
      "cell_type": "code",
      "source": [
        "spark.version"
      ],
      "metadata": {
        "colab": {
          "base_uri": "https://localhost:8080/",
          "height": 35
        },
        "id": "0Oh7nXJYmQ1r",
        "outputId": "fac12d78-8b7b-42eb-ba2d-a2b5e93b4bfb"
      },
      "execution_count": null,
      "outputs": [
        {
          "output_type": "execute_result",
          "data": {
            "text/plain": [
              "'3.5.1'"
            ],
            "application/vnd.google.colaboratory.intrinsic+json": {
              "type": "string"
            }
          },
          "metadata": {},
          "execution_count": 3
        }
      ]
    },
    {
      "cell_type": "markdown",
      "source": [
        "load the data"
      ],
      "metadata": {
        "id": "fIcHffErFRt9"
      }
    },
    {
      "cell_type": "code",
      "source": [
        "# do the necessary imports\n",
        "from pyspark.sql.functions import *\n",
        "from pyspark.sql.types import *"
      ],
      "metadata": {
        "id": "Dhc28zPamVfK"
      },
      "execution_count": null,
      "outputs": []
    },
    {
      "cell_type": "code",
      "source": [
        "schema = StructType([\n",
        "    StructField(\"Co_Nm\", StringType(), True),\n",
        "    StructField(\"Co_Pg_Lstd\", BooleanType(), True),\n",
        "    StructField(\"Emp_Cnt\", IntegerType(), True),\n",
        "    StructField(\"Flw_Cnt\", IntegerType(), True),\n",
        "    StructField(\"Job_Ttl\", StringType(), True),\n",
        "    StructField(\"Job_Desc\", StringType(), True),\n",
        "    StructField(\"Is_Supvsr\", BooleanType(), True),\n",
        "    StructField(\"max_sal\", FloatType(), True),\n",
        "    StructField(\"med_sal\", FloatType(), True),\n",
        "    StructField(\"min_sal\", FloatType(), True),\n",
        "    StructField(\"py_prd\", StringType(), True),  # Using StringType since Category type is not directly available in PySpark\n",
        "    StructField(\"py_lstd\", BooleanType(), True),\n",
        "    StructField(\"wrk_typ\", StringType(), True),  # Using StringType since Category type is not directly available in PySpark\n",
        "    StructField(\"loc\", StringType(), True),\n",
        "    StructField(\"st_code\", StringType(), True),\n",
        "    StructField(\"is_remote\", BooleanType(), True),\n",
        "    StructField(\"views\", IntegerType(), True),\n",
        "    StructField(\"app_typ\", StringType(), True),  # Using StringType since Category type is not directly available in PySpark\n",
        "    StructField(\"app_is_off\", BooleanType(), True),\n",
        "    StructField(\"xp_lvl\", StringType(), True),  # Using StringType since Category type is not directly available in PySpark\n",
        "    StructField(\"domain\", StringType(), True),\n",
        "    StructField(\"has_post_domain\", BooleanType(), True),\n",
        "    StructField(\"is_sponsored\", BooleanType(), True),\n",
        "    StructField(\"base_comp\", BooleanType(), True)\n",
        "])"
      ],
      "metadata": {
        "id": "TP-m6hKgzY9l"
      },
      "execution_count": null,
      "outputs": []
    },
    {
      "cell_type": "code",
      "source": [
        "df = spark.read.csv(\"/content/LinkedInJobs_MLDataset.csv\", header=True, schema=schema,  multiLine=True,\n",
        "    escape='\"',\n",
        "    quote='\"',\n",
        "    ignoreLeadingWhiteSpace=True,\n",
        "    ignoreTrailingWhiteSpace=True)\n",
        "#/content/LinkedInJobs_MLDataset.csv\n",
        "# /content/sample_data/LinkedInJobs_MLDataset.csv"
      ],
      "metadata": {
        "id": "kCm1BMY2ms5E"
      },
      "execution_count": null,
      "outputs": []
    },
    {
      "cell_type": "markdown",
      "source": [
        "data preprocessing"
      ],
      "metadata": {
        "id": "7DpaB9H5FUwM"
      }
    },
    {
      "cell_type": "code",
      "source": [
        "df.show()"
      ],
      "metadata": {
        "colab": {
          "base_uri": "https://localhost:8080/"
        },
        "id": "YB7L3oBOy5Kf",
        "outputId": "f4f696dc-93cc-41e3-f903-d444c4dd4034"
      },
      "execution_count": null,
      "outputs": [
        {
          "output_type": "stream",
          "name": "stdout",
          "text": [
            "+--------------------+----------+-------+-------+--------------------+--------------------+---------+--------+--------+--------+----------+-------+---------+--------------------+-------+---------+-----+------------------+----------+----------------+--------------------+---------------+------------+---------+\n",
            "|               Co_Nm|Co_Pg_Lstd|Emp_Cnt|Flw_Cnt|             Job_Ttl|            Job_Desc|Is_Supvsr| max_sal| med_sal| min_sal|    py_prd|py_lstd|  wrk_typ|                 loc|st_code|is_remote|views|           app_typ|app_is_off|          xp_lvl|              domain|has_post_domain|is_sponsored|base_comp|\n",
            "+--------------------+----------+-------+-------+--------------------+--------------------+---------+--------+--------+--------+----------+-------+---------+--------------------+-------+---------+-----+------------------+----------+----------------+--------------------+---------------+------------+---------+\n",
            "|         HearingLife|      true|   1171|  11417|Hearing Care Prov...|Overview\\n\\nHeari...|    false|  5250.0|  5250.0|  5250.0|   MONTHLY|   true|Full-time|    Little River, SC|     SC|     NULL|    9|      OffsiteApply|      true|     Entry level|careers-demant.ic...|           true|        NULL|     NULL|\n",
            "|Metalcraft of May...|      true|    300|   2923|Shipping & Receiv...|Metalcraft of May...|    false|     0.0|     0.0|     0.0|Not Listed|  false|Full-time|      Beaver Dam, WI|     WI|     NULL|    0|      OffsiteApply|      true|      Not Listed| www.click2apply.net|           true|        NULL|     NULL|\n",
            "|U.S. Tsubaki Powe...|      true|    314|   8487|Manager, Engineering|The TSUBAKI name ...|     true|     0.0|     0.0|     0.0|Not Listed|  false|Full-time|        Bessemer, AL|     AL|     NULL|    0|      OffsiteApply|      true|      Not Listed| www.click2apply.net|           true|        NULL|     NULL|\n",
            "|Episcopal Communi...|      true|     36|    305|                Cook|descriptionTitle\\...|    false|   22.27|   22.27|   22.27|    HOURLY|   true|Full-time|     Aliso Viejo, CA|     CA|     NULL|    1|      OffsiteApply|      true|     Entry level|     jobs.apploi.com|           true|        NULL|     NULL|\n",
            "|          iHerb, LLC|      true|   1227|  51933|Principal Cloud S...|Job Summary\\nAt i...|    false|275834.0|240895.0|205956.0|    YEARLY|   true|Full-time|       United States|     XF|     NULL|    0|      OffsiteApply|      true|Mid-Senior level|   careers.iherb.com|           true|        NULL|     NULL|\n",
            "|ZOLL Medical Corp...|      true|   5308| 101161|Territory Manager...|Location: Remote,...|     true|     0.0|     0.0|     0.0|Not Listed|  false|Full-time|       United States|     XF|     NULL|   16|      OffsiteApply|      true|Mid-Senior level|        www.zoll.com|           true|        NULL|     NULL|\n",
            "|         Robert Half|      true|  32197|2609057|   Senior Accountant|Senior Accountant...|    false|110000.0|107500.0|105000.0|    YEARLY|   true|Full-time|       San Mateo, CA|     CA|     NULL|   35|ComplexOnsiteApply|     false|       Associate|                NULL|          false|        NULL|     NULL|\n",
            "|             Harness|      true|    859|  71463|Director, Digital...|Harness is a high...|     true|     0.0|     0.0|     0.0|Not Listed|  false|Full-time|   San Francisco, CA|     CA|     NULL|   29|      OffsiteApply|      true|        Director|boards.greenhouse.io|           true|        NULL|     NULL|\n",
            "|MasTec Communicat...|      true|   2382|  42211| Tower Technician II|Overview\\n\\nAt Ma...|    false|    25.0|    23.5|    22.0|    HOURLY|   true|Full-time|          Fresno, CA|     CA|     NULL|    0|      OffsiteApply|      true|      Not Listed|careers.masteccom...|           true|        NULL|     NULL|\n",
            "|              Atkore|      true|   1495|  54303|Pick Pack Technician|Who we are:\\n\\nAt...|    false|     0.0|     0.0|     0.0|Not Listed|  false|Full-time|          Harvey, IL|     IL|     NULL|    0|      OffsiteApply|      true|     Entry level|recruiting2.ultip...|           true|        NULL|     NULL|\n",
            "|University of Cal...|      true|  19496| 143587|Social Work Assoc...|Psych-ZSFG-Adult-...|    false|     0.0|     0.0|     0.0|Not Listed|  false|Full-time|   San Francisco, CA|     CA|     NULL|    7|      OffsiteApply|      true|      Not Listed| sjobs.brassring.com|           true|        NULL|     NULL|\n",
            "|                  TD|      true|  96563| 764559|Assistant Store M...|TD Description\\n\\...|     true|     0.0|     0.0|     0.0|Not Listed|  false|Full-time|       Fairfield, CT|     CT|     NULL|    6|      OffsiteApply|      true|      Not Listed| sjobs.brassring.com|           true|        NULL|     NULL|\n",
            "|Boyd Group Servic...|      true|    244|   3203| Auto Body Techncian|Company: Gerber C...|    false|     0.0|     0.0|     0.0|Not Listed|  false|Full-time|   Daytona Beach, FL|     FL|     NULL|    1|      OffsiteApply|      true|     Entry level|boydgroup.wd1.myw...|           true|        NULL|     NULL|\n",
            "|        Acme Markets|      true|   4039|  12546|ACME D8- Asst Sto...|The First Assista...|     true|     0.0|     0.0|     0.0|Not Listed|  false|Full-time|          Sussex, NJ|     NJ|     NULL|    2|      OffsiteApply|      true|Mid-Senior level|eofd.fa.us6.oracl...|           true|        NULL|     NULL|\n",
            "|Episcopal Communi...|      true|     36|    305|          Dishwasher|descriptionTitle\\...|    false|    19.3|    19.3|    19.3|    HOURLY|   true|Full-time|     Aliso Viejo, CA|     CA|     NULL|    0|      OffsiteApply|      true|     Entry level|     jobs.apploi.com|           true|        NULL|     NULL|\n",
            "|STSI (Staffing Te...|      true|     23|   3150|Instrumentation Q...|Instrumentation Q...|    false|     0.0|     0.0|     0.0|Not Listed|  false| Contract|       United States|     XF|     NULL|   59| SimpleOnsiteApply|     false|     Entry level|  jobs.stsigroup.com|           true|        NULL|     NULL|\n",
            "|Sigma Technologie...|      true|    306|   2690|Power Utility Dis...|Power Utility Dis...|    false|     0.0|     0.0|     0.0|Not Listed|  false|Full-time|         Hammond, IN|     IN|     NULL|    0|      OffsiteApply|      true|      Not Listed| www.click2apply.net|           true|        NULL|     NULL|\n",
            "|            Escalent|      true|    894|  72044|Insights Analyst ...|Who We Are\\n\\nEsc...|    false| 64000.0| 61000.0| 58000.0|    YEARLY|   true|Full-time|       United States|     XF|     NULL|  130|      OffsiteApply|      true|     Entry level|escalent.hrmdirec...|           true|        NULL|     NULL|\n",
            "|               Appen|      true|  20665|1032908|Delivery Director...|About Appen\\n\\nAp...|     true|     0.0|     0.0|     0.0|Not Listed|  false|Full-time|Texas, United States|     XF|     NULL|    0|      OffsiteApply|      true|        Director|       jobs.lever.co|           true|        NULL|     NULL|\n",
            "|Adelphi Medical S...|      true|     26|    373|  Nurse Practitioner|Adelphi is seekin...|    false|     0.0|     0.0|     0.0|Not Listed|  false| Contract|      Toms River, NJ|     NJ|     NULL|    0|      OffsiteApply|      true|      Not Listed|    recruit.zoho.com|           true|        NULL|     NULL|\n",
            "+--------------------+----------+-------+-------+--------------------+--------------------+---------+--------+--------+--------+----------+-------+---------+--------------------+-------+---------+-----+------------------+----------+----------------+--------------------+---------------+------------+---------+\n",
            "only showing top 20 rows\n",
            "\n"
          ]
        }
      ]
    },
    {
      "cell_type": "code",
      "source": [
        "\n"
      ],
      "metadata": {
        "id": "WzrQ4VGTGBs_"
      },
      "execution_count": null,
      "outputs": []
    },
    {
      "cell_type": "markdown",
      "source": [
        "data cleaning and preprocessing"
      ],
      "metadata": {
        "id": "1ivi-4m_FccZ"
      }
    },
    {
      "cell_type": "code",
      "source": [
        "from pyspark.sql.functions import col, regexp_replace\n",
        "\n",
        "# Remove leading and trailing quotes from the job_desc column\n",
        "df = df.withColumn(\"Job_Desc\", regexp_replace(col(\"Job_Desc\"), r'^\"|\"$', ''))\n",
        "\n",
        "# Select numerical columns for regression\n",
        "numerical_columns = [\"Emp_Cnt\", \"Flw_Cnt\", \"max_sal\", \"med_sal\", \"min_sal\", \"views\"]\n",
        "df = df.select(numerical_columns)\n",
        "\n",
        "# Handle missing values (e.g., fill with mean or drop)\n",
        "df = df.na.drop()\n"
      ],
      "metadata": {
        "id": "FCIo28_wEpsC"
      },
      "execution_count": null,
      "outputs": []
    },
    {
      "cell_type": "markdown",
      "source": [
        "correleation matrix"
      ],
      "metadata": {
        "id": "4wkuAw_qG7c_"
      }
    },
    {
      "cell_type": "code",
      "source": [
        "correlation_matrix = df.select(numerical_columns).toPandas().corr()\n",
        "print(correlation_matrix)"
      ],
      "metadata": {
        "colab": {
          "base_uri": "https://localhost:8080/"
        },
        "id": "k2DdHUEuGwAR",
        "outputId": "8dd696c7-d9b9-4f97-be29-7fc2ae6a74b1"
      },
      "execution_count": null,
      "outputs": [
        {
          "output_type": "stream",
          "name": "stdout",
          "text": [
            "          Emp_Cnt   Flw_Cnt   max_sal   med_sal   min_sal     views\n",
            "Emp_Cnt  1.000000  0.706234  0.079466  0.071709  0.058350 -0.021945\n",
            "Flw_Cnt  0.706234  1.000000  0.171144  0.164611  0.149937  0.022855\n",
            "max_sal  0.079466  0.171144  1.000000  0.990452  0.944375  0.098227\n",
            "med_sal  0.071709  0.164611  0.990452  1.000000  0.980695  0.104343\n",
            "min_sal  0.058350  0.149937  0.944375  0.980695  1.000000  0.109591\n",
            "views   -0.021945  0.022855  0.098227  0.104343  0.109591  1.000000\n"
          ]
        }
      ]
    },
    {
      "cell_type": "code",
      "source": [
        "# Assembling feature vector\n",
        "from pyspark.ml.feature import VectorAssembler\n",
        "\n",
        "assembler = VectorAssembler(inputCols=[\"Emp_Cnt\", \"Flw_Cnt\", \"max_sal\", \"min_sal\", \"views\"], outputCol=\"features\")\n",
        "df = assembler.transform(df)\n",
        "\n",
        "# Select features and target\n",
        "df = df.select(\"features\", col(\"med_sal\").alias(\"label\"))\n"
      ],
      "metadata": {
        "id": "3qB2ZdQ8ErxS"
      },
      "execution_count": null,
      "outputs": []
    },
    {
      "cell_type": "markdown",
      "source": [
        "Model Training"
      ],
      "metadata": {
        "id": "RD4pBwtnFgmC"
      }
    },
    {
      "cell_type": "code",
      "source": [
        "from pyspark.ml.regression import LinearRegression\n",
        "\n",
        "# Split the data into training and test sets\n",
        "train_data, test_data = df.randomSplit([0.8, 0.2], seed=1234)\n",
        "\n",
        "# Initialize the Linear Regression model\n",
        "lr = LinearRegression(featuresCol='features', labelCol='label')\n",
        "\n",
        "# Fit the model to the training data\n",
        "lr_model = lr.fit(train_data)\n"
      ],
      "metadata": {
        "id": "omVx5vVOErpK"
      },
      "execution_count": null,
      "outputs": []
    },
    {
      "cell_type": "markdown",
      "source": [
        "Model Evaluation"
      ],
      "metadata": {
        "id": "dlrI00-zFhhp"
      }
    },
    {
      "cell_type": "code",
      "source": [
        "# Get the summary of the trained model\n",
        "lr_summary = lr_model.summary\n",
        "print(\"RMSE: %f\" % lr_summary.rootMeanSquaredError)\n",
        "print(\"R2: %f\" % lr_summary.r2)\n",
        "\n",
        "# Make predictions on the test data\n",
        "predictions = lr_model.transform(test_data)\n",
        "\n",
        "# Show some sample predictions\n",
        "predictions.select(\"features\", \"label\", \"prediction\").show(5)\n"
      ],
      "metadata": {
        "colab": {
          "base_uri": "https://localhost:8080/"
        },
        "id": "ujarPFmUErf1",
        "outputId": "cf5c1c5d-bf1e-46b6-9de4-621afb787df7"
      },
      "execution_count": null,
      "outputs": [
        {
          "output_type": "stream",
          "name": "stdout",
          "text": [
            "RMSE: 0.000143\n",
            "R2: 1.000000\n",
            "+--------------------+-----+--------------------+\n",
            "|            features|label|          prediction|\n",
            "+--------------------+-----+--------------------+\n",
            "|           (5,[],[])|  0.0|-2.41730055600881...|\n",
            "|           (5,[],[])|  0.0|-2.41730055600881...|\n",
            "| (5,[0,1],[4.0,5.0])|  0.0|-2.41724544334586...|\n",
            "|(5,[0,1],[9.0,268...|  0.0|-2.41706215809970...|\n",
            "|(5,[0,1],[9.0,268...|  0.0|-2.41706215809970...|\n",
            "+--------------------+-----+--------------------+\n",
            "only showing top 5 rows\n",
            "\n"
          ]
        }
      ]
    }
  ]
}